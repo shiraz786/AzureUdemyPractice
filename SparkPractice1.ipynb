{
  "nbformat": 4,
  "nbformat_minor": 0,
  "metadata": {
    "colab": {
      "provenance": [],
      "mount_file_id": "1aIFd49tlEywUjGEkQ7I7yO0FVRZhpq6O",
      "authorship_tag": "ABX9TyORPW0fMiClA2jOqxnAchxJ",
      "include_colab_link": true
    },
    "kernelspec": {
      "name": "python3",
      "display_name": "Python 3"
    },
    "language_info": {
      "name": "python"
    }
  },
  "cells": [
    {
      "cell_type": "markdown",
      "metadata": {
        "id": "view-in-github",
        "colab_type": "text"
      },
      "source": [
        "<a href=\"https://colab.research.google.com/github/shiraz786/AzureUdemyPractice/blob/main/SparkPractice1.ipynb\" target=\"_parent\"><img src=\"https://colab.research.google.com/assets/colab-badge.svg\" alt=\"Open In Colab\"/></a>"
      ]
    },
    {
      "cell_type": "code",
      "execution_count": 4,
      "metadata": {
        "colab": {
          "base_uri": "https://localhost:8080/"
        },
        "id": "hfC-U-zgOsnG",
        "outputId": "e81ffd37-4d03-4c4a-9802-6a27e9ea5513"
      },
      "outputs": [
        {
          "output_type": "stream",
          "name": "stdout",
          "text": [
            "Looking in indexes: https://pypi.org/simple, https://us-python.pkg.dev/colab-wheels/public/simple/\n",
            "Collecting Spark\n",
            "  Downloading spark-0.2.1.tar.gz (41 kB)\n",
            "\u001b[2K     \u001b[90m━━━━━━━━━━━━━━━━━━━━━━━━━━━━━━━━━━━━━━━━\u001b[0m \u001b[32m41.0/41.0 KB\u001b[0m \u001b[31m3.1 MB/s\u001b[0m eta \u001b[36m0:00:00\u001b[0m\n",
            "\u001b[?25h  Preparing metadata (setup.py) ... \u001b[?25l\u001b[?25hdone\n",
            "Collecting pyspark\n",
            "  Downloading pyspark-3.3.1.tar.gz (281.4 MB)\n",
            "\u001b[2K     \u001b[90m━━━━━━━━━━━━━━━━━━━━━━━━━━━━━━━━━━━━━━━\u001b[0m \u001b[32m281.4/281.4 MB\u001b[0m \u001b[31m5.2 MB/s\u001b[0m eta \u001b[36m0:00:00\u001b[0m\n",
            "\u001b[?25h  Preparing metadata (setup.py) ... \u001b[?25l\u001b[?25hdone\n",
            "Collecting py4j==0.10.9.5\n",
            "  Downloading py4j-0.10.9.5-py2.py3-none-any.whl (199 kB)\n",
            "\u001b[2K     \u001b[90m━━━━━━━━━━━━━━━━━━━━━━━━━━━━━━━━━━━━━━\u001b[0m \u001b[32m199.7/199.7 KB\u001b[0m \u001b[31m23.8 MB/s\u001b[0m eta \u001b[36m0:00:00\u001b[0m\n",
            "\u001b[?25hBuilding wheels for collected packages: Spark, pyspark\n",
            "  Building wheel for Spark (setup.py) ... \u001b[?25l\u001b[?25hdone\n",
            "  Created wheel for Spark: filename=spark-0.2.1-py3-none-any.whl size=58761 sha256=034102f50b0cf69ac56c1fec076066f31eb06e7e63f3a8bb2333416519ef2569\n",
            "  Stored in directory: /root/.cache/pip/wheels/c5/19/ff/9b16f354528bc9698ec3286be7947ebbf1f8391325553961d4\n",
            "  Building wheel for pyspark (setup.py) ... \u001b[?25l\u001b[?25hdone\n",
            "  Created wheel for pyspark: filename=pyspark-3.3.1-py2.py3-none-any.whl size=281845512 sha256=a82e3daf5afb1da4bf99b3b4853829e6c5d8cebecb638801be3bad7a1c34bf2b\n",
            "  Stored in directory: /root/.cache/pip/wheels/43/dc/11/ec201cd671da62fa9c5cc77078235e40722170ceba231d7598\n",
            "Successfully built Spark pyspark\n",
            "Installing collected packages: Spark, py4j, pyspark\n",
            "Successfully installed Spark-0.2.1 py4j-0.10.9.5 pyspark-3.3.1\n"
          ]
        }
      ],
      "source": [
        "pip install Spark pyspark"
      ]
    },
    {
      "cell_type": "code",
      "source": [
        "#@title Must Import Packages\n",
        "from pyspark import SparkContext, SparkConf, sql\n",
        "from pyspark.sql import Row\n",
        "sc = SparkContext.getOrCreate()\n",
        "sqlContext = sql.SQLContext(sc)\n",
        "# Import SparkSession\n",
        "from pyspark.sql import SparkSession\n",
        "# Create a Spark Session\n",
        "spark = SparkSession.builder.master(\"local[*]\").getOrCreate()\n",
        "# Check Spark Session Information\n",
        "spark"
      ],
      "metadata": {
        "id": "NBiszKPC4aVZ",
        "colab": {
          "base_uri": "https://localhost:8080/",
          "height": 274
        },
        "outputId": "a80ab169-14d2-4a89-a8d7-00ab641f52f3"
      },
      "execution_count": 5,
      "outputs": [
        {
          "output_type": "stream",
          "name": "stderr",
          "text": [
            "/usr/local/lib/python3.8/dist-packages/pyspark/sql/context.py:112: FutureWarning: Deprecated in 3.0.0. Use SparkSession.builder.getOrCreate() instead.\n",
            "  warnings.warn(\n"
          ]
        },
        {
          "output_type": "execute_result",
          "data": {
            "text/plain": [
              "<pyspark.sql.session.SparkSession at 0x7f92911907f0>"
            ],
            "text/html": [
              "\n",
              "            <div>\n",
              "                <p><b>SparkSession - in-memory</b></p>\n",
              "                \n",
              "        <div>\n",
              "            <p><b>SparkContext</b></p>\n",
              "\n",
              "            <p><a href=\"http://028b2f13d6c9:4040\">Spark UI</a></p>\n",
              "\n",
              "            <dl>\n",
              "              <dt>Version</dt>\n",
              "                <dd><code>v3.3.1</code></dd>\n",
              "              <dt>Master</dt>\n",
              "                <dd><code>local[*]</code></dd>\n",
              "              <dt>AppName</dt>\n",
              "                <dd><code>pyspark-shell</code></dd>\n",
              "            </dl>\n",
              "        </div>\n",
              "        \n",
              "            </div>\n",
              "        "
            ]
          },
          "metadata": {},
          "execution_count": 5
        }
      ]
    },
    {
      "cell_type": "code",
      "source": [
        "#@title Creating Dataframe from Text file\n",
        "df_MD=spark.read.options(sep='@@#',header='true').csv(\"File:////content//drive//MyDrive//Pyspark Practice folder//multipledelimiter.txt\")\n",
        "df_MD.show()"
      ],
      "metadata": {
        "colab": {
          "base_uri": "https://localhost:8080/"
        },
        "id": "Bi-nadFmPler",
        "outputId": "785f6f5f-d954-41db-b499-20be380ba357"
      },
      "execution_count": 42,
      "outputs": [
        {
          "output_type": "stream",
          "name": "stdout",
          "text": [
            "+----+---+\n",
            "|name|age|\n",
            "+----+---+\n",
            "|  ss| 41|\n",
            "|  aa| 52|\n",
            "+----+---+\n",
            "\n"
          ]
        }
      ]
    },
    {
      "cell_type": "code",
      "source": [
        "#@title Creating Data Frames\n",
        "df_cust= spark.read.options(inferschema='true', sep=',', header='true').csv(\"File:///content//drive//MyDrive//Pyspark Practice folder//customer_data.csv\")\n",
        "df_prod= spark.read.options(inferschema='true', sep=',', header='true').csv(\"File:///content//drive//MyDrive//Pyspark Practice folder//product_data.csv\")\n",
        "df_order= spark.read.options(inferschema='true', sep=',', header='true').csv(\"File:///content//drive//MyDrive//Pyspark Practice folder//order_data.csv\")\n",
        "df_cust.show()\n",
        "df_prod.show()\n",
        "df_order.show()\n"
      ],
      "metadata": {
        "colab": {
          "base_uri": "https://localhost:8080/"
        },
        "id": "MrsMlJfTRQRG",
        "outputId": "7bc57e6c-af9c-460f-f6c6-909f210bb71c"
      },
      "execution_count": 56,
      "outputs": [
        {
          "output_type": "stream",
          "name": "stdout",
          "text": [
            "+---+----------+----------+--------------------+------+\n",
            "| id|first_name| last_name|               email|gender|\n",
            "+---+----------+----------+--------------------+------+\n",
            "|  1|     Kandy|Lindermann|klindermann0@gith...|Female|\n",
            "|  2|  Kahaleel|     Lalor|klalor1@infoseek....|  Male|\n",
            "|  3|    Josiah|   Tolland|jtolland2@prnewsw...|  Male|\n",
            "|  4|  Rosamond|      Troy|     rtroy3@1und1.de|Female|\n",
            "|  5|    Aharon| McTrustam|amctrustam4@opens...|  Male|\n",
            "|  6|       Kat|    Skully|     kskully5@nhs.uk|Female|\n",
            "|  7|      Land|    Waltho|lwaltho6@friendfe...|  Male|\n",
            "|  8|     Trent|   Holwell|tholwell7@histats...|  Male|\n",
            "|  9|      Lalo|  Bernette|lbernette8@acquir...|  Male|\n",
            "| 10|   Elsbeth|     Grzes|egrzes9@aboutads....|Female|\n",
            "| 11|    Odella|    Scally|  oscallya@webmd.com|Female|\n",
            "| 12|  Ruprecht| Mattisson|rmattissonb@alter...|  Male|\n",
            "| 13|   Stewart|   Pettman|spettmanc@comcast...|  Male|\n",
            "| 14|     Mable|     Biner|  mbinerd@reddit.com|Female|\n",
            "| 15| Frederich|  Fitzpayn|ffitzpayne@pinter...|  Male|\n",
            "| 16|    Elysee|   Qusklay|equsklayf@nsw.gov.au|Female|\n",
            "| 17|   Kerstin|   Kensley|kkensleyg@over-bl...|Female|\n",
            "| 18|    Lowell|  Yakunkin|lyakunkinh@arizon...|  Male|\n",
            "| 19|    Weidar|    Megany|wmeganyi@rakuten....|  Male|\n",
            "| 20|   Peterus|  Getcliff|pgetcliffj@csmoni...|  Male|\n",
            "+---+----------+----------+--------------------+------+\n",
            "only showing top 20 rows\n",
            "\n",
            "+---+----------+-------+\n",
            "|pid| pcategory|  price|\n",
            "+---+----------+-------+\n",
            "|  1|      Toys|$289.41|\n",
            "|  2|Industrial|$567.32|\n",
            "|  3|  Clothing|$544.64|\n",
            "|  4|    Sports|$581.58|\n",
            "|  5|  Clothing|$580.28|\n",
            "|  6|    Sports|$431.26|\n",
            "|  7|Industrial|$725.90|\n",
            "|  8|Industrial|$823.94|\n",
            "|  9|  Outdoors|$418.75|\n",
            "| 10|      Baby|$923.32|\n",
            "| 11|    Beauty|$397.32|\n",
            "| 12|   Jewelry| $22.91|\n",
            "| 13|     Music|$485.45|\n",
            "| 14|    Beauty|$566.22|\n",
            "| 15|    Beauty|$235.97|\n",
            "| 16|     Shoes| $15.97|\n",
            "| 17|  Outdoors|$494.29|\n",
            "| 18|  Outdoors|$948.60|\n",
            "| 19|   Jewelry|$549.94|\n",
            "| 20|  Clothing|$333.10|\n",
            "+---+----------+-------+\n",
            "only showing top 20 rows\n",
            "\n",
            "+---+---+---+----------+\n",
            "|oid|cid|pid|  order_ts|\n",
            "+---+---+---+----------+\n",
            "|  1| 35| 50|  6/1/2022|\n",
            "|  2| 93| 22|11/27/2022|\n",
            "|  3| 87| 24| 9/27/2022|\n",
            "|  4| 94| 77|  3/6/2022|\n",
            "|  5|  9| 92| 6/23/2022|\n",
            "|  6| 53| 85| 12/8/2022|\n",
            "|  7| 44| 97| 3/29/2022|\n",
            "|  8|  0|  5| 7/17/2022|\n",
            "|  9| 15| 48|  4/2/2022|\n",
            "| 10| 22| 63| 6/22/2022|\n",
            "| 11| 59| 77|12/20/2022|\n",
            "| 12| 17| 60| 3/30/2022|\n",
            "| 13| 75| 92|  6/7/2022|\n",
            "| 14|  7| 65| 8/23/2022|\n",
            "| 15| 14| 69|  8/2/2022|\n",
            "| 16| 10|  0| 12/2/2022|\n",
            "| 17| 85| 64| 1/14/2022|\n",
            "| 18| 54| 10|  9/4/2022|\n",
            "| 19| 11| 24| 5/21/2022|\n",
            "| 20| 39| 46|12/22/2022|\n",
            "+---+---+---+----------+\n",
            "only showing top 20 rows\n",
            "\n"
          ]
        }
      ]
    },
    {
      "cell_type": "code",
      "source": [
        "#@title Inner Join\n",
        "Inner= df_cust.join(df_order,df_cust.id==df_order.oid,\"inner\")\n",
        "Inner.show()                 "
      ],
      "metadata": {
        "colab": {
          "base_uri": "https://localhost:8080/"
        },
        "id": "49BI1igbVIK5",
        "outputId": "dd8a74a6-f67b-43fa-c4a5-9d72eb460525"
      },
      "execution_count": 45,
      "outputs": [
        {
          "output_type": "stream",
          "name": "stdout",
          "text": [
            "+---+----------+----------+--------------------+------+---+---+---+----------+\n",
            "| id|first_name| last_name|               email|gender|oid|cid|pid|  order_ts|\n",
            "+---+----------+----------+--------------------+------+---+---+---+----------+\n",
            "|  1|     Kandy|Lindermann|klindermann0@gith...|Female|  1| 35| 50|  6/1/2022|\n",
            "|  2|  Kahaleel|     Lalor|klalor1@infoseek....|  Male|  2| 93| 22|11/27/2022|\n",
            "|  3|    Josiah|   Tolland|jtolland2@prnewsw...|  Male|  3| 87| 24| 9/27/2022|\n",
            "|  4|  Rosamond|      Troy|     rtroy3@1und1.de|Female|  4| 94| 77|  3/6/2022|\n",
            "|  5|    Aharon| McTrustam|amctrustam4@opens...|  Male|  5|  9| 92| 6/23/2022|\n",
            "|  6|       Kat|    Skully|     kskully5@nhs.uk|Female|  6| 53| 85| 12/8/2022|\n",
            "|  7|      Land|    Waltho|lwaltho6@friendfe...|  Male|  7| 44| 97| 3/29/2022|\n",
            "|  8|     Trent|   Holwell|tholwell7@histats...|  Male|  8|  0|  5| 7/17/2022|\n",
            "|  9|      Lalo|  Bernette|lbernette8@acquir...|  Male|  9| 15| 48|  4/2/2022|\n",
            "| 10|   Elsbeth|     Grzes|egrzes9@aboutads....|Female| 10| 22| 63| 6/22/2022|\n",
            "| 11|    Odella|    Scally|  oscallya@webmd.com|Female| 11| 59| 77|12/20/2022|\n",
            "| 12|  Ruprecht| Mattisson|rmattissonb@alter...|  Male| 12| 17| 60| 3/30/2022|\n",
            "| 13|   Stewart|   Pettman|spettmanc@comcast...|  Male| 13| 75| 92|  6/7/2022|\n",
            "| 14|     Mable|     Biner|  mbinerd@reddit.com|Female| 14|  7| 65| 8/23/2022|\n",
            "| 15| Frederich|  Fitzpayn|ffitzpayne@pinter...|  Male| 15| 14| 69|  8/2/2022|\n",
            "| 16|    Elysee|   Qusklay|equsklayf@nsw.gov.au|Female| 16| 10|  0| 12/2/2022|\n",
            "| 17|   Kerstin|   Kensley|kkensleyg@over-bl...|Female| 17| 85| 64| 1/14/2022|\n",
            "| 18|    Lowell|  Yakunkin|lyakunkinh@arizon...|  Male| 18| 54| 10|  9/4/2022|\n",
            "| 19|    Weidar|    Megany|wmeganyi@rakuten....|  Male| 19| 11| 24| 5/21/2022|\n",
            "| 20|   Peterus|  Getcliff|pgetcliffj@csmoni...|  Male| 20| 39| 46|12/22/2022|\n",
            "+---+----------+----------+--------------------+------+---+---+---+----------+\n",
            "only showing top 20 rows\n",
            "\n"
          ]
        }
      ]
    },
    {
      "cell_type": "code",
      "source": [
        "#@title Outer Join\n",
        "outer= df_cust.join(df_order,df_cust.id==df_order.oid,'outer')\n",
        "outer.show()              "
      ],
      "metadata": {
        "colab": {
          "base_uri": "https://localhost:8080/"
        },
        "id": "uWK2ySC1WqvI",
        "outputId": "83847493-0aeb-4099-9d61-4dd4f72f5dc6"
      },
      "execution_count": 49,
      "outputs": [
        {
          "output_type": "stream",
          "name": "stdout",
          "text": [
            "+---+----------+----------+--------------------+------+---+---+---+----------+\n",
            "| id|first_name| last_name|               email|gender|oid|cid|pid|  order_ts|\n",
            "+---+----------+----------+--------------------+------+---+---+---+----------+\n",
            "|  1|     Kandy|Lindermann|klindermann0@gith...|Female|  1| 35| 50|  6/1/2022|\n",
            "|  2|  Kahaleel|     Lalor|klalor1@infoseek....|  Male|  2| 93| 22|11/27/2022|\n",
            "|  3|    Josiah|   Tolland|jtolland2@prnewsw...|  Male|  3| 87| 24| 9/27/2022|\n",
            "|  4|  Rosamond|      Troy|     rtroy3@1und1.de|Female|  4| 94| 77|  3/6/2022|\n",
            "|  5|    Aharon| McTrustam|amctrustam4@opens...|  Male|  5|  9| 92| 6/23/2022|\n",
            "|  6|       Kat|    Skully|     kskully5@nhs.uk|Female|  6| 53| 85| 12/8/2022|\n",
            "|  7|      Land|    Waltho|lwaltho6@friendfe...|  Male|  7| 44| 97| 3/29/2022|\n",
            "|  8|     Trent|   Holwell|tholwell7@histats...|  Male|  8|  0|  5| 7/17/2022|\n",
            "|  9|      Lalo|  Bernette|lbernette8@acquir...|  Male|  9| 15| 48|  4/2/2022|\n",
            "| 10|   Elsbeth|     Grzes|egrzes9@aboutads....|Female| 10| 22| 63| 6/22/2022|\n",
            "| 11|    Odella|    Scally|  oscallya@webmd.com|Female| 11| 59| 77|12/20/2022|\n",
            "| 12|  Ruprecht| Mattisson|rmattissonb@alter...|  Male| 12| 17| 60| 3/30/2022|\n",
            "| 13|   Stewart|   Pettman|spettmanc@comcast...|  Male| 13| 75| 92|  6/7/2022|\n",
            "| 14|     Mable|     Biner|  mbinerd@reddit.com|Female| 14|  7| 65| 8/23/2022|\n",
            "| 15| Frederich|  Fitzpayn|ffitzpayne@pinter...|  Male| 15| 14| 69|  8/2/2022|\n",
            "| 16|    Elysee|   Qusklay|equsklayf@nsw.gov.au|Female| 16| 10|  0| 12/2/2022|\n",
            "| 17|   Kerstin|   Kensley|kkensleyg@over-bl...|Female| 17| 85| 64| 1/14/2022|\n",
            "| 18|    Lowell|  Yakunkin|lyakunkinh@arizon...|  Male| 18| 54| 10|  9/4/2022|\n",
            "| 19|    Weidar|    Megany|wmeganyi@rakuten....|  Male| 19| 11| 24| 5/21/2022|\n",
            "| 20|   Peterus|  Getcliff|pgetcliffj@csmoni...|  Male| 20| 39| 46|12/22/2022|\n",
            "+---+----------+----------+--------------------+------+---+---+---+----------+\n",
            "only showing top 20 rows\n",
            "\n"
          ]
        }
      ]
    },
    {
      "cell_type": "code",
      "source": [
        "#@title Right Join\n",
        "Right= df_cust.join(df_prod,df_cust.id == df_prod.pid,'right')\n",
        "Right.show()           "
      ],
      "metadata": {
        "colab": {
          "base_uri": "https://localhost:8080/"
        },
        "id": "11qxPp2zX_u6",
        "outputId": "baa54f03-3832-4916-f4e6-9bf427910418"
      },
      "execution_count": 69,
      "outputs": [
        {
          "output_type": "stream",
          "name": "stdout",
          "text": [
            "+---+----------+----------+--------------------+------+---+----------+-------+\n",
            "| id|first_name| last_name|               email|gender|pid| pcategory|  price|\n",
            "+---+----------+----------+--------------------+------+---+----------+-------+\n",
            "|  1|     Kandy|Lindermann|klindermann0@gith...|Female|  1|      Toys|$289.41|\n",
            "|  2|  Kahaleel|     Lalor|klalor1@infoseek....|  Male|  2|Industrial|$567.32|\n",
            "|  3|    Josiah|   Tolland|jtolland2@prnewsw...|  Male|  3|  Clothing|$544.64|\n",
            "|  4|  Rosamond|      Troy|     rtroy3@1und1.de|Female|  4|    Sports|$581.58|\n",
            "|  5|    Aharon| McTrustam|amctrustam4@opens...|  Male|  5|  Clothing|$580.28|\n",
            "|  6|       Kat|    Skully|     kskully5@nhs.uk|Female|  6|    Sports|$431.26|\n",
            "|  7|      Land|    Waltho|lwaltho6@friendfe...|  Male|  7|Industrial|$725.90|\n",
            "|  8|     Trent|   Holwell|tholwell7@histats...|  Male|  8|Industrial|$823.94|\n",
            "|  9|      Lalo|  Bernette|lbernette8@acquir...|  Male|  9|  Outdoors|$418.75|\n",
            "| 10|   Elsbeth|     Grzes|egrzes9@aboutads....|Female| 10|      Baby|$923.32|\n",
            "| 11|    Odella|    Scally|  oscallya@webmd.com|Female| 11|    Beauty|$397.32|\n",
            "| 12|  Ruprecht| Mattisson|rmattissonb@alter...|  Male| 12|   Jewelry| $22.91|\n",
            "| 13|   Stewart|   Pettman|spettmanc@comcast...|  Male| 13|     Music|$485.45|\n",
            "| 14|     Mable|     Biner|  mbinerd@reddit.com|Female| 14|    Beauty|$566.22|\n",
            "| 15| Frederich|  Fitzpayn|ffitzpayne@pinter...|  Male| 15|    Beauty|$235.97|\n",
            "| 16|    Elysee|   Qusklay|equsklayf@nsw.gov.au|Female| 16|     Shoes| $15.97|\n",
            "| 17|   Kerstin|   Kensley|kkensleyg@over-bl...|Female| 17|  Outdoors|$494.29|\n",
            "| 18|    Lowell|  Yakunkin|lyakunkinh@arizon...|  Male| 18|  Outdoors|$948.60|\n",
            "| 19|    Weidar|    Megany|wmeganyi@rakuten....|  Male| 19|   Jewelry|$549.94|\n",
            "| 20|   Peterus|  Getcliff|pgetcliffj@csmoni...|  Male| 20|  Clothing|$333.10|\n",
            "+---+----------+----------+--------------------+------+---+----------+-------+\n",
            "only showing top 20 rows\n",
            "\n"
          ]
        }
      ]
    },
    {
      "cell_type": "code",
      "source": [
        "#@title Left Join\n",
        "Left= df_cust.join(df_order,df_cust.id == df_order.oid,'left')\n",
        "Left.show()           "
      ],
      "metadata": {
        "colab": {
          "base_uri": "https://localhost:8080/"
        },
        "id": "3ikK2ZUuYcLU",
        "outputId": "18e54e86-1b61-4af3-a5ed-4e5a56ce4b05"
      },
      "execution_count": 55,
      "outputs": [
        {
          "output_type": "stream",
          "name": "stdout",
          "text": [
            "+---+----------+----------+--------------------+------+---+---+---+----------+\n",
            "| id|first_name| last_name|               email|gender|oid|cid|pid|  order_ts|\n",
            "+---+----------+----------+--------------------+------+---+---+---+----------+\n",
            "|  1|     Kandy|Lindermann|klindermann0@gith...|Female|  1| 35| 50|  6/1/2022|\n",
            "|  2|  Kahaleel|     Lalor|klalor1@infoseek....|  Male|  2| 93| 22|11/27/2022|\n",
            "|  3|    Josiah|   Tolland|jtolland2@prnewsw...|  Male|  3| 87| 24| 9/27/2022|\n",
            "|  4|  Rosamond|      Troy|     rtroy3@1und1.de|Female|  4| 94| 77|  3/6/2022|\n",
            "|  5|    Aharon| McTrustam|amctrustam4@opens...|  Male|  5|  9| 92| 6/23/2022|\n",
            "|  6|       Kat|    Skully|     kskully5@nhs.uk|Female|  6| 53| 85| 12/8/2022|\n",
            "|  7|      Land|    Waltho|lwaltho6@friendfe...|  Male|  7| 44| 97| 3/29/2022|\n",
            "|  8|     Trent|   Holwell|tholwell7@histats...|  Male|  8|  0|  5| 7/17/2022|\n",
            "|  9|      Lalo|  Bernette|lbernette8@acquir...|  Male|  9| 15| 48|  4/2/2022|\n",
            "| 10|   Elsbeth|     Grzes|egrzes9@aboutads....|Female| 10| 22| 63| 6/22/2022|\n",
            "| 11|    Odella|    Scally|  oscallya@webmd.com|Female| 11| 59| 77|12/20/2022|\n",
            "| 12|  Ruprecht| Mattisson|rmattissonb@alter...|  Male| 12| 17| 60| 3/30/2022|\n",
            "| 13|   Stewart|   Pettman|spettmanc@comcast...|  Male| 13| 75| 92|  6/7/2022|\n",
            "| 14|     Mable|     Biner|  mbinerd@reddit.com|Female| 14|  7| 65| 8/23/2022|\n",
            "| 15| Frederich|  Fitzpayn|ffitzpayne@pinter...|  Male| 15| 14| 69|  8/2/2022|\n",
            "| 16|    Elysee|   Qusklay|equsklayf@nsw.gov.au|Female| 16| 10|  0| 12/2/2022|\n",
            "| 17|   Kerstin|   Kensley|kkensleyg@over-bl...|Female| 17| 85| 64| 1/14/2022|\n",
            "| 18|    Lowell|  Yakunkin|lyakunkinh@arizon...|  Male| 18| 54| 10|  9/4/2022|\n",
            "| 19|    Weidar|    Megany|wmeganyi@rakuten....|  Male| 19| 11| 24| 5/21/2022|\n",
            "| 20|   Peterus|  Getcliff|pgetcliffj@csmoni...|  Male| 20| 39| 46|12/22/2022|\n",
            "+---+----------+----------+--------------------+------+---+---+---+----------+\n",
            "only showing top 20 rows\n",
            "\n"
          ]
        }
      ]
    },
    {
      "cell_type": "code",
      "source": [
        "cd=spark.read.options(inferschema='true', sep='\\t').csv(\"File:///content//drive//MyDrive//Pyspark Practice folder//cricket_data.txt\")\n",
        "cd.show()\n",
        "cd.createOrReplaceTempView(\"cri\")\n",
        "spark.sql(\"select case WHEN _C0 <= 6 THEN 1 WHEN _C0 > 6 THEN 2 END OVER,SUM(_c1) from cri GROUP BY OVER\").show()"
      ],
      "metadata": {
        "colab": {
          "base_uri": "https://localhost:8080/"
        },
        "id": "MaGsr51SaEsZ",
        "outputId": "6273a40c-1b3b-426c-e9dc-a5ba13eced41"
      },
      "execution_count": 73,
      "outputs": [
        {
          "output_type": "stream",
          "name": "stdout",
          "text": [
            "+---+---+\n",
            "|_c0|_c1|\n",
            "+---+---+\n",
            "|  1|  2|\n",
            "|  2|  4|\n",
            "|  3|  6|\n",
            "|  4|  1|\n",
            "|  5|  0|\n",
            "|  6|  2|\n",
            "|  7|  3|\n",
            "|  8|  1|\n",
            "|  9|  4|\n",
            "| 10|  2|\n",
            "| 11|  1|\n",
            "| 12|  6|\n",
            "+---+---+\n",
            "\n",
            "+----+--------+\n",
            "|OVER|sum(_c1)|\n",
            "+----+--------+\n",
            "|   1|      15|\n",
            "|   2|      17|\n",
            "+----+--------+\n",
            "\n"
          ]
        }
      ]
    }
  ]
}